{
 "cells": [
  {
   "cell_type": "code",
   "execution_count": 4,
   "id": "95a88cc3-62bb-402a-9b83-4f0a770b523a",
   "metadata": {},
   "outputs": [],
   "source": [
    "#13.1\n",
    "#current date as a string\n",
    "from datetime import datetime\n",
    "\n",
    "current_date = datetime.now().strftime('%Y-%m-%d')\n",
    "\n",
    "with open('today.txt', 'w') as file:\n",
    "    file.write(current_date)\n"
   ]
  },
  {
   "cell_type": "code",
   "execution_count": 6,
   "id": "9ed7d290-98cd-43d4-84e1-37d9a2b6e129",
   "metadata": {},
   "outputs": [
    {
     "name": "stdout",
     "output_type": "stream",
     "text": [
      "Content of today_string: 2025-02-18\n"
     ]
    }
   ],
   "source": [
    "#13.2\n",
    "#read the  content of today.txt\n",
    "with open('today.txt', 'r') as file:\n",
    "    today_string = file.read()\n",
    "\n",
    "print(f\"Content of today_string: {today_string}\")\n"
   ]
  },
  {
   "cell_type": "code",
   "execution_count": 20,
   "id": "5e864e4d-0081-42c5-b351-38c8fe0467b2",
   "metadata": {},
   "outputs": [
    {
     "name": "stdout",
     "output_type": "stream",
     "text": [
      "Parse date: 2025-02-18 00:00:00\n"
     ]
    }
   ],
   "source": [
    "#13.3\n",
    "#parse the date from today_string\n",
    "parse_date = datetime.strptime(today_string.strip(), '%Y-%m-%d')\n",
    "print(f\"Parse date: {parse_date}\")"
   ]
  },
  {
   "cell_type": "code",
   "execution_count": 33,
   "id": "787d1325-8ce4-4581-a2d6-a450fa25a4a8",
   "metadata": {},
   "outputs": [
    {
     "name": "stdout",
     "output_type": "stream",
     "text": [
      "Process Process-1 - Time: 21:33:53:275790 (slept for 0.489s)\n",
      "Process Process-2 - Time: 21:33:53:728660 (slept for 0.935s)\n",
      "Process Process-3 - Time: 21:33:53:771905 (slept for 0.950s)\n",
      "All processes done.\n"
     ]
    }
   ],
   "source": [
    "#15.1\n",
    "#imports\n",
    "import multiprocessing\n",
    "import time\n",
    "import os\n",
    "import random \n",
    "from datetime import datetime\n",
    "\n",
    "def timer():\n",
    "    sleep_time = random.random()\n",
    "    time.sleep(sleep_time)\n",
    "    current_time = datetime.now().strftime('%H:%M:%S:%f')\n",
    "    print(f'Process {multiprocessing.current_process().name} - Time: {current_time} (slept for {sleep_time:.3f}s)')\n",
    "    \n",
    "if __name__ == '__main__':  \n",
    "    processes = []\n",
    "    for i in range(3):\n",
    "        p = multiprocessing.Process(target=timer) \n",
    "        processes.append(p)\n",
    "        p.start()\n",
    "\n",
    "    for p in processes:\n",
    "        p.join()\n",
    "\n",
    "    print(\"All processes done.\")\n",
    "    "
   ]
  },
  {
   "cell_type": "code",
   "execution_count": null,
   "id": "2df1239f-77d0-43d1-90f9-c1b9a538da41",
   "metadata": {},
   "outputs": [],
   "source": []
  },
  {
   "cell_type": "code",
   "execution_count": null,
   "id": "d51eb2c8-c396-42db-b8d1-c650c68a73cd",
   "metadata": {},
   "outputs": [],
   "source": []
  }
 ],
 "metadata": {
  "kernelspec": {
   "display_name": "anaconda-2024.02-py310",
   "language": "python",
   "name": "conda-env-anaconda-2024.02-py310-py"
  },
  "language_info": {
   "codemirror_mode": {
    "name": "ipython",
    "version": 3
   },
   "file_extension": ".py",
   "mimetype": "text/x-python",
   "name": "python",
   "nbconvert_exporter": "python",
   "pygments_lexer": "ipython3",
   "version": "3.10.14"
  }
 },
 "nbformat": 4,
 "nbformat_minor": 5
}
